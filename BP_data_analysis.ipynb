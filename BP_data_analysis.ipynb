{
  "nbformat": 4,
  "nbformat_minor": 0,
  "metadata": {
    "colab": {
      "name": "BP_data_analysis.ipynb",
      "provenance": [],
      "collapsed_sections": [],
      "include_colab_link": true
    },
    "kernelspec": {
      "name": "python3",
      "display_name": "Python 3"
    }
  },
  "cells": [
    {
      "cell_type": "markdown",
      "metadata": {
        "id": "view-in-github",
        "colab_type": "text"
      },
      "source": [
        "<a href=\"https://colab.research.google.com/github/bvm84/open_colab_ml/blob/master/BP_data_analysis.ipynb\" target=\"_parent\"><img src=\"https://colab.research.google.com/assets/colab-badge.svg\" alt=\"Open In Colab\"/></a>"
      ]
    },
    {
      "cell_type": "code",
      "metadata": {
        "id": "rNXX8ZU63fuD",
        "colab_type": "code",
        "colab": {}
      },
      "source": [
        "from IPython.display import clear_output\n",
        "from google.colab import drive\n",
        "drive.mount('/content/drive')\n",
        "import sys\n",
        "import os\n",
        "import numpy as np\n",
        "import pandas as pd\n",
        "import seaborn as sns\n",
        "import feather\n",
        "import logging\n",
        "from pathlib import PurePath\n",
        "from pandas import DataFrame\n",
        "sys.path.append('/content/drive/My Drive/Colab/l2_ML/')\n",
        "% matplotlib inline\n",
        "np.random.seed(0)\n",
        "clear_output()"
      ],
      "execution_count": 0,
      "outputs": []
    },
    {
      "cell_type": "code",
      "metadata": {
        "id": "9BmGQ7tAHu9e",
        "colab_type": "code",
        "colab": {}
      },
      "source": [
        "class Db():\n",
        "\n",
        "    def __init__(self):\n",
        "        self._df = None\n",
        "\n",
        "    @staticmethod\n",
        "    def create_df(wav_folder, l2_folder, pid, features_list):\n",
        "        allowed_features = ('HR', 'MAB2', 'MAD3P', 'MADP', 'MASEP', 'MASEPMax', 'MASRP', 'MB0',\n",
        "                            'MB1', 'MB2', 'MD3P', 'MDP', 'MFDP', 'MFSEP', 'MFSRP', 'MPI', 'MRR',\n",
        "                            'MS4S1', 'MS5S2', 'MSEP', 'MSEPMax', 'MSNR', 'MSRP', 'MWaveType',\n",
        "                            'MdD3P', 'MdDP', 'MdSEP', 'MdSEPMax', 'MdSRP', 'BR')\n",
        "        for feature in features_list:\n",
        "            if feature not in allowed_features:\n",
        "                raise ValueError(\"Unknown feature: {0}, expected one of {1}\".format(features_list, allowed_features))\n",
        "\n",
        "        pid_cid_sys_dia_features = []\n",
        "        wav_glob_ext = '*.wav'\n",
        "        for filename in glob.iglob(os.path.join(wav_folder, '') + wav_glob_ext, recursive=True):\n",
        "            pid = pid\n",
        "            cid = os.path.splitext(PurePath(filename).parts[-1])[0].split('_')[0]\n",
        "            sys = int(os.path.splitext(PurePath(filename).parts[-1])[0].split('_')[1])\n",
        "            dia = int(os.path.splitext(PurePath(filename).parts[-1])[0].split('_')[2])\n",
        "            json_filename = l2_folder.joinpath(cid).with_suffix('.json')\n",
        "            with open(json_filename, 'r') as json_file:\n",
        "                json_data = json.load(json_file)\n",
        "            # pprint.pprint(json_data)\n",
        "            features = []\n",
        "            for feature in features_list:\n",
        "                try:\n",
        "                    features.append(json_data['value'][feature])\n",
        "                except KeyError:\n",
        "                    features.append(np.nan)\n",
        "            pid_cid_sys_dia_features.append([pid, cid, sys, dia] + features)\n",
        "            # print(cid_sys_dia_features)\n",
        "        df = DataFrame(pid_cid_sys_dia_features,\n",
        "                       columns=['pid', 'cid', 'sys', 'dia'] + features_list)\n",
        "        return df\n",
        "\n",
        "    @staticmethod\n",
        "    def get_pid_dirs(db_folder):\n",
        "        pid_dirs = []\n",
        "        try:\n",
        "            for item in db_folder.iterdir():\n",
        "                # print(item)\n",
        "                if item.is_dir():\n",
        "                    pid_dirs.append(item)\n",
        "            return pid_dirs\n",
        "        except FileNotFoundError:\n",
        "            print('Invalid directory')\n",
        "\n",
        "    def create_dataframe(self, db_folder, features_list):\n",
        "        dfs = []\n",
        "        result_df = DataFrame()\n",
        "        for item in self.get_pid_dirs(db_folder):\n",
        "            wav_folder = item.joinpath('wav_out')\n",
        "            l2_folder = item.joinpath('l2')\n",
        "            pid = item.parts[-1]\n",
        "            dfs.append(self.create_df(wav_folder, l2_folder, pid, features_list))\n",
        "        result_df = pd.concat(dfs)\n",
        "        self._df = result_df\n",
        "\n",
        "    @property\n",
        "    def df(self):\n",
        "        return self._df\n",
        "\n",
        "    @df.setter\n",
        "    def set_df(self, df):\n",
        "        if isinstance(df, pd.DataFrame):\n",
        "            self._df = df\n",
        "        else:\n",
        "            print('Wrong dataframe')\n",
        "\n",
        "    def save_dataframe(self, df_filename):\n",
        "        try:\n",
        "            feather.write_dataframe(self._df, df_filename)\n",
        "        except Exception as e:\n",
        "            logging.error(e)\n",
        "\n",
        "    def read_dataframe(self, df_filename):\n",
        "        try:\n",
        "            self._df = feather.read_dataframe(df_filename)\n",
        "        except Exception as e:\n",
        "            logging.error(e)\n",
        "\n",
        "    def get_pid_ncid_dict(self, threshold_n=20):\n",
        "        pid_list = self._df['pid'].unique()\n",
        "        print(pid_list)\n",
        "        cid_count_list = []\n",
        "        for pid_item in pid_list:\n",
        "            temp_df = self._df.query('pid == @pid_item')\n",
        "            cid_count_list.append(len(temp_df))\n",
        "        pid_ncid_dict = {pid_list[i]: cid_count_list[i] for i in range(len(pid_list))}\n",
        "        print(pid_ncid_dict)\n",
        "        keys_to_delete = []\n",
        "        for key, value in pid_ncid_dict.items():\n",
        "            if value < threshold_n:\n",
        "                keys_to_delete.append(key)\n",
        "        for key in keys_to_delete:\n",
        "            pid_ncid_dict.pop(key)\n",
        "        print(pid_ncid_dict)\n",
        "        return pid_ncid_dict\n",
        "\n",
        "    def truncate_df(self, cid_quantity_tostore=20, do_filter=True):\n",
        "        if do_filter:\n",
        "            indexes_to_drop = []\n",
        "        pid_ncid_dict = self.get_pid_ncid_dict()\n",
        "        for key in pid_ncid_dict:\n",
        "            temp_df = self._df.query('pid == @key')\n",
        "            if len(temp_df) > cid_quantity_tostore:\n",
        "                remove_n = len(temp_df) - cid_quantity_tostore\n",
        "                drop_indexes = np.random.choice(temp_df.index, remove_n, replace=False)\n",
        "                indexes_to_drop.append(drop_indexes)\n",
        "        # print(len(np.concatenate(indexes_to_drop)))\n",
        "        cleared_df = self._df.drop(np.concatenate(indexes_to_drop))\n",
        "        print(len(pid_ncid_dict))\n",
        "        print(cleared_df)\n",
        "\n",
        "    def get_pid_df(self, pid):\n",
        "        if pid not in self._df['pid'].unique():\n",
        "            raise ValueError(\"No such pid in db: {0}, expected one of {1}\".format(pid, self._df['pid'].unique()))\n",
        "        else:\n",
        "            return self._df.query('pid == @pid')"
      ],
      "execution_count": 0,
      "outputs": []
    },
    {
      "cell_type": "code",
      "metadata": {
        "id": "p_I76i6U532v",
        "colab_type": "code",
        "colab": {
          "base_uri": "https://localhost:8080/",
          "height": 263
        },
        "outputId": "04a23875-aa98-4bff-dbdf-e32dd58a9ea2"
      },
      "source": [
        "dataframe_filename = os.path.join('/content/drive/My Drive/Colab/l2_ML/all_json_df.file')\n",
        "inst = Db()\n",
        "inst.read_dataframe(dataframe_filename)\n",
        "df = inst.df\n",
        "print(df.columns)\n",
        "print(df.head())\n",
        "# df.describe()\n",
        "df.drop(['MB1'], axis=1, inplace=True)\n",
        "df.dropna(axis=0, how='any', inplace=True)\n",
        "# df.describe()\n",
        "index_0s = df.query('HR ==0').index\n",
        "index_dia_min = df.query('dia < 40').index\n",
        "index_dia_max = df.query('dia > 120').index\n",
        "df.drop(index_0s, axis=0, inplace=True)\n",
        "df.drop(index_dia_min, axis=0, inplace=True)\n",
        "df.drop(index_dia_max, axis=0, inplace=True)"
      ],
      "execution_count": 3,
      "outputs": [
        {
          "output_type": "stream",
          "text": [
            "Index(['pid', 'cid', 'sys', 'dia', 'HR', 'MAB2', 'MAD3P', 'MADP', 'MASEP',\n",
            "       'MASEPMax', 'MASRP', 'MB0', 'MB1', 'MB2', 'MD3P', 'MDP', 'MFDP',\n",
            "       'MFSEP', 'MFSRP', 'MPI', 'MRR', 'MS4S1', 'MS5S2', 'MSEP', 'MSEPMax',\n",
            "       'MSNR', 'MSRP', 'MWaveType', 'MdD3P', 'MdDP', 'MdSEP', 'MdSEPMax',\n",
            "       'MdSRP', 'BR'],\n",
            "      dtype='object')\n",
            "    pid    cid  sys  dia     HR  ...   MdDP  MdSEP  MdSEPMax  MdSRP     BR\n",
            "0  1003  46667  139   96  73.80  ...  818.0  816.0     825.0  819.0  0.327\n",
            "1  1003  47085  123   87  69.28  ...  867.0  864.0     879.0  869.0  0.213\n",
            "2  1003  47089  114   76  75.28  ...  797.0  797.0     797.0  797.0  0.423\n",
            "3  1003  47164  120   63  74.91  ...  800.0  801.0     813.0  802.0  0.230\n",
            "4  1003  47238  119   83  67.95  ...  890.0  883.0     890.0  887.0  0.253\n",
            "\n",
            "[5 rows x 34 columns]\n"
          ],
          "name": "stdout"
        }
      ]
    },
    {
      "cell_type": "code",
      "metadata": {
        "id": "GfCaNXKGPqdx",
        "colab_type": "code",
        "colab": {
          "base_uri": "https://localhost:8080/",
          "height": 1000
        },
        "outputId": "78c95420-fabe-43af-fb29-d73afafad08c"
      },
      "source": [
        "def sys_zone(value):\n",
        "    if 110 <= value <= 130:\n",
        "        return 'Normal'\n",
        "    elif value <= 100:\n",
        "        return 'Low'\n",
        "    elif value >= 140:\n",
        "        return 'High'\n",
        "    else:\n",
        "        return np.nan\n",
        "def dia_zone(value):\n",
        "    if 70 <= value <= 90:\n",
        "        return 'Normal'\n",
        "    elif value <= 60:\n",
        "        return 'Low'\n",
        "    elif value >= 100:\n",
        "        return 'Low'\n",
        "    else:\n",
        "        return np.nan\n",
        "# print(df.loc[df['dia']==50])\n",
        "df['sys_labels'] = df['sys'].apply(sys_zone)\n",
        "df['dia_labels'] = df['dia'].apply(dia_zone)\n",
        "df_spaced = df.dropna()\n",
        "df_spaced.describe()\n",
        "df_4994 = df_spaced.query('pid==\"4994\"')\n",
        "df_4994.describe()\n",
        "print(df_4994)"
      ],
      "execution_count": 4,
      "outputs": [
        {
          "output_type": "stream",
          "text": [
            "       pid    cid  sys  dia  ...  MdSRP     BR  sys_labels  dia_labels\n",
            "1324  4994  45888  120   80  ...  679.0  0.167      Normal      Normal\n",
            "1325  4994  46277  140   85  ...  698.0  0.243        High      Normal\n",
            "1326  4994  46314  142   74  ...  651.0  0.230        High      Normal\n",
            "1328  4994  46456  146   81  ...  645.0  0.233        High      Normal\n",
            "1329  4994  46467  143   81  ...  679.0  0.210        High      Normal\n",
            "1331  4994  46638  142   76  ...  685.0  0.217        High      Normal\n",
            "1332  4994  46682  143   82  ...  616.0  0.230        High      Normal\n",
            "1334  4994  46752  124   73  ...  726.0  0.223      Normal      Normal\n",
            "1335  4994  46771  140   74  ...  599.0  0.243        High      Normal\n",
            "1336  4994  46790  141   78  ...  614.0  0.270        High      Normal\n",
            "1337  4994  46799  141   86  ...  547.0  0.310        High      Normal\n",
            "1338  4994  46855  111   70  ...  746.0  0.250      Normal      Normal\n",
            "1340  4994  46886  110   75  ...  791.0  0.206      Normal      Normal\n",
            "1343  4994  46970  144   74  ...  731.0  0.244        High      Normal\n",
            "1348  4994  47101  141   76  ...  664.0  0.256        High      Normal\n",
            "1349  4994  47107  125   73  ...  817.0  0.222      Normal      Normal\n",
            "1351  4994  47151  126   70  ...  819.0  0.217      Normal      Normal\n",
            "1352  4994  47173  129   73  ...  751.0  0.256      Normal      Normal\n",
            "1353  4994  47195  144   78  ...  774.0  0.294        High      Normal\n",
            "1354  4994  47206  124   74  ...  734.0  0.389      Normal      Normal\n",
            "1355  4994  47222  130   75  ...  676.0  0.217      Normal      Normal\n",
            "1356  4994  47261  126   79  ...  763.0  0.228      Normal      Normal\n",
            "1358  4994  47306  129   73  ...  664.0  0.217      Normal      Normal\n",
            "1361  4994  47345  143   74  ...  687.0  0.178        High      Normal\n",
            "1362  4994  47357  147   80  ...  717.0  0.172        High      Normal\n",
            "1364  4994  47505  126   72  ...  728.0  0.178      Normal      Normal\n",
            "1367  4994  47821  130   74  ...  753.0  0.217      Normal      Normal\n",
            "1368  4994  47834  141   75  ...  654.0  0.217        High      Normal\n",
            "1371  4994  49314  150   81  ...  670.0  0.222        High      Normal\n",
            "1372  4994  49355  152   72  ...  664.0  0.239        High      Normal\n",
            "...    ...    ...  ...  ...  ...    ...    ...         ...         ...\n",
            "1431  4994  54132  151   78  ...  599.0  0.283        High      Normal\n",
            "1433  4994  54682  126   79  ...  641.0  0.222      Normal      Normal\n",
            "1437  4994  55236  121   70  ...  719.0  0.322      Normal      Normal\n",
            "1439  4994  55369  141   77  ...  590.0  0.189        High      Normal\n",
            "1442  4994  57582  124   74  ...  744.0  0.206      Normal      Normal\n",
            "1444  4994  58315  142   80  ...  756.0  0.300        High      Normal\n",
            "1449  4994  58643  142   77  ...  696.0  0.222        High      Normal\n",
            "1450  4994  59165  129   73  ...  797.0  0.217      Normal      Normal\n",
            "1451  4994  59274  143   78  ...  876.0  0.211        High      Normal\n",
            "1452  4994  62356  127   81  ...  737.0  0.194      Normal      Normal\n",
            "1454  4994  62733  130   78  ...  749.0  0.256      Normal      Normal\n",
            "1455  4994  62900  129   87  ...  680.0  0.283      Normal      Normal\n",
            "1457  4994  63141  130   77  ...  699.0  0.194      Normal      Normal\n",
            "1458  4994  63389  117   78  ...  719.0  0.233      Normal      Normal\n",
            "1459  4994  64195  140   77  ...  776.0  0.211        High      Normal\n",
            "1460  4994  64196  121   81  ...  752.0  0.205      Normal      Normal\n",
            "1461  4994  64197  123   86  ...  721.0  0.183      Normal      Normal\n",
            "1462  4994  66443  128   80  ...  783.0  0.217      Normal      Normal\n",
            "1464  4994  66514  141   84  ...  668.0  0.222        High      Normal\n",
            "1465  4994  66542  124   80  ...  761.0  0.228      Normal      Normal\n",
            "1466  4994  66608  143   84  ...  617.0  0.294        High      Normal\n",
            "1471  4994  67041  129   84  ...  763.0  0.228      Normal      Normal\n",
            "1472  4994  67053  129   84  ...  673.0  0.239      Normal      Normal\n",
            "1476  4994  78604  141   77  ...  717.0  0.256        High      Normal\n",
            "1480  4994  79457  120   73  ...  730.0  0.150      Normal      Normal\n",
            "1482  4994  79460  123   78  ...  766.0  0.133      Normal      Normal\n",
            "1483  4994  79461  128   76  ...  782.0  0.266      Normal      Normal\n",
            "1485  4994  79463  124   75  ...  783.0  0.233      Normal      Normal\n",
            "1486  4994  79600  126   72  ...  927.0  0.217      Normal      Normal\n",
            "1488  4994  83483  126   79  ...  798.0  0.206      Normal      Normal\n",
            "\n",
            "[93 rows x 35 columns]\n"
          ],
          "name": "stdout"
        }
      ]
    },
    {
      "cell_type": "code",
      "metadata": {
        "id": "R6_iskYKXph-",
        "colab_type": "code",
        "colab": {
          "base_uri": "https://localhost:8080/",
          "height": 210
        },
        "outputId": "009cb815-41a7-40ac-fd58-54d771032a31"
      },
      "source": [
        "print(df_4994.columns)\n",
        "df_4994.drop(['pid', 'cid', 'dia_labels'], axis=1, inplace=True)\n",
        "# ax = sns.scatterplot(x=\"HR\", y=\"sys_labels\", data=df_4994)\n",
        "# sns.pairplot(df_4994, hue=\"sys_labels\")"
      ],
      "execution_count": 5,
      "outputs": [
        {
          "output_type": "stream",
          "text": [
            "Index(['pid', 'cid', 'sys', 'dia', 'HR', 'MAB2', 'MAD3P', 'MADP', 'MASEP',\n",
            "       'MASEPMax', 'MASRP', 'MB0', 'MB2', 'MD3P', 'MDP', 'MFDP', 'MFSEP',\n",
            "       'MFSRP', 'MPI', 'MRR', 'MS4S1', 'MS5S2', 'MSEP', 'MSEPMax', 'MSNR',\n",
            "       'MSRP', 'MWaveType', 'MdD3P', 'MdDP', 'MdSEP', 'MdSEPMax', 'MdSRP',\n",
            "       'BR', 'sys_labels', 'dia_labels'],\n",
            "      dtype='object')\n"
          ],
          "name": "stdout"
        },
        {
          "output_type": "stream",
          "text": [
            "/usr/local/lib/python3.6/dist-packages/pandas/core/frame.py:3940: SettingWithCopyWarning: \n",
            "A value is trying to be set on a copy of a slice from a DataFrame\n",
            "\n",
            "See the caveats in the documentation: http://pandas.pydata.org/pandas-docs/stable/indexing.html#indexing-view-versus-copy\n",
            "  errors=errors)\n"
          ],
          "name": "stderr"
        }
      ]
    },
    {
      "cell_type": "code",
      "metadata": {
        "id": "pWo3wqO6bKE9",
        "colab_type": "code",
        "colab": {}
      },
      "source": [
        "# sns.pairplot(df_4994, hue=\"sys_labels\")"
      ],
      "execution_count": 0,
      "outputs": []
    },
    {
      "cell_type": "code",
      "metadata": {
        "id": "RENSUacDrCSC",
        "colab_type": "code",
        "colab": {
          "base_uri": "https://localhost:8080/",
          "height": 633
        },
        "outputId": "214d4b9e-2de5-4979-bd78-e9bcb193bcb4"
      },
      "source": [
        "result = df_4994.corr()\n",
        "print(type(result))\n",
        "print(result)"
      ],
      "execution_count": 7,
      "outputs": [
        {
          "output_type": "stream",
          "text": [
            "<class 'pandas.core.frame.DataFrame'>\n",
            "                sys       dia        HR  ...  MdSEPMax     MdSRP        BR\n",
            "sys        1.000000  0.330680  0.481034  ... -0.467542 -0.482838  0.180842\n",
            "dia        0.330680  1.000000  0.287617  ... -0.283931 -0.297247  0.072210\n",
            "HR         0.481034  0.287617  1.000000  ... -0.980176 -0.990192  0.250975\n",
            "MAB2      -0.252931 -0.232562 -0.076488  ...  0.103846  0.075981  0.080722\n",
            "MAD3P     -0.260020 -0.230249 -0.071437  ...  0.099328  0.070953  0.081092\n",
            "MADP      -0.279992 -0.255031 -0.287793  ...  0.353249  0.286550 -0.083141\n",
            "MASEP     -0.267185 -0.252547 -0.060846  ...  0.066618  0.059166  0.121070\n",
            "MASEPMax  -0.253556 -0.231737 -0.071404  ...  0.097253  0.070942  0.085773\n",
            "MASRP     -0.238685 -0.217204 -0.142748  ...  0.205724  0.144966 -0.009329\n",
            "MB0       -0.210133 -0.084087 -0.245954  ...  0.181951  0.221887  0.029780\n",
            "MB2       -0.083832 -0.093720 -0.320189  ...  0.421064  0.313079 -0.258412\n",
            "MD3P      -0.060188 -0.154353 -0.188882  ...  0.160169  0.206147  0.047691\n",
            "MDP       -0.416913 -0.175865 -0.654273  ...  0.655243  0.655415 -0.026272\n",
            "MFDP      -0.117559 -0.086418  0.244233  ... -0.254902 -0.234072  0.108821\n",
            "MFSEP     -0.004932 -0.145227 -0.151832  ...  0.137947  0.168268 -0.060168\n",
            "MFSRP     -0.149540 -0.001261 -0.421060  ...  0.507491  0.440242 -0.288327\n",
            "MPI       -0.102824 -0.343367 -0.053181  ...  0.085770  0.071783  0.128391\n",
            "MRR       -0.475706 -0.295378 -0.989616  ...  0.987126  0.999600 -0.229057\n",
            "MS4S1     -0.148193 -0.142627 -0.404268  ...  0.511083  0.404549 -0.367102\n",
            "MS5S2     -0.116197 -0.221566 -0.496231  ...  0.577217  0.528949 -0.296094\n",
            "MSEP      -0.114533 -0.103077 -0.228535  ...  0.147003  0.206739  0.038124\n",
            "MSEPMax   -0.135357 -0.117594 -0.335335  ...  0.438761  0.330642 -0.221238\n",
            "MSNR      -0.292715 -0.184928 -0.192819  ...  0.245275  0.208900  0.004343\n",
            "MSRP      -0.437026 -0.238705 -0.813510  ...  0.794098  0.798718 -0.120975\n",
            "MWaveType -0.005396  0.001204  0.040241  ... -0.144280 -0.041871  0.177756\n",
            "MdD3P     -0.475471 -0.293865 -0.989574  ...  0.986905  0.999657 -0.227473\n",
            "MdDP      -0.479989 -0.295622 -0.990119  ...  0.986445  0.999626 -0.230153\n",
            "MdSEP     -0.475408 -0.295541 -0.989160  ...  0.986664  0.999476 -0.230548\n",
            "MdSEPMax  -0.467542 -0.283931 -0.980176  ...  1.000000  0.986347 -0.273458\n",
            "MdSRP     -0.482838 -0.297247 -0.990192  ...  0.986347  1.000000 -0.230752\n",
            "BR         0.180842  0.072210  0.250975  ... -0.273458 -0.230752  1.000000\n",
            "\n",
            "[31 rows x 31 columns]\n"
          ],
          "name": "stdout"
        }
      ]
    }
  ]
}