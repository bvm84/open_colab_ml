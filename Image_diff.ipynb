{
  "nbformat": 4,
  "nbformat_minor": 0,
  "metadata": {
    "colab": {
      "name": "Image_diff.ipynb",
      "provenance": [],
      "collapsed_sections": [],
      "include_colab_link": true
    },
    "kernelspec": {
      "name": "python3",
      "display_name": "Python 3"
    }
  },
  "cells": [
    {
      "cell_type": "markdown",
      "metadata": {
        "id": "view-in-github",
        "colab_type": "text"
      },
      "source": [
        "<a href=\"https://colab.research.google.com/github/bvm84/open_colab_ml/blob/master/Image_diff.ipynb\" target=\"_parent\"><img src=\"https://colab.research.google.com/assets/colab-badge.svg\" alt=\"Open In Colab\"/></a>"
      ]
    },
    {
      "cell_type": "code",
      "metadata": {
        "id": "52MBYjGrXl96",
        "colab_type": "code",
        "colab": {}
      },
      "source": [
        "import cv2\n",
        "import numpy as np\n",
        "import os\n",
        "from matplotlib import pyplot as plt\n",
        "from pathlib import PurePath, PureWindowsPath\n",
        "from PIL import Image, ImageChops, ImageMath\n",
        "\n",
        "\n",
        "def crop_plate_with_flower():\n",
        "    image_path_c = PurePath(os.getcwd(), 'plates', 'train', 'cleaned', '0006.jpg')\n",
        "    out_image = PureWindowsPath(os.getcwd(), 'plates', 'dirt', 'clear.jpg')\n",
        "    # image_path_d = PureWindowsPath(os.getcwd(), 'plates', 'train', 'dirty', '0006.jpg')\n",
        "    # out_image = PureWindowsPath(os.getcwd(), 'plates', 'dirt', 'dirty.jpg')\n",
        "    img = Image.open(str(image_path_c))\n",
        "    area = (50, 120, 220, 260)\n",
        "    cropped_img = img.crop(area)\n",
        "    cropped_img.save(str(out_image))\n",
        "\n",
        "\n",
        "def image_diff():\n",
        "    dirty = PureWindowsPath(os.getcwd(), 'plates', 'dirt', 'dirty.jpg')\n",
        "    clear = PureWindowsPath(os.getcwd(), 'plates', 'dirt', 'clear.jpg')\n",
        "    dirty_img = Image.open(str(dirty))\n",
        "    clear_img = Image.open(str(clear))\n",
        "    rd, gd, bd = dirty_img.split()\n",
        "    rd = rd.point(lambda i: i / 255)\n",
        "    gd = gd.point(lambda i: i / 255)\n",
        "    bd = bd.point(lambda i: i / 255)\n",
        "    rc, gc, bc = clear_img.split()\n",
        "    rc = rc.point(lambda i: i / 255)\n",
        "    gc = gc.point(lambda i: i / 255)\n",
        "    bc = bc.point(lambda i: i / 255)\n",
        "    normalized_dirty_img = Image.merge('RGB', (rd, gd, bd))\n",
        "    normalized_dirty_img.show()\n",
        "    '''\n",
        "    normalized_clear_img = Image.merge('RGB', (rc, gc, bc))\n",
        "    out = ImageChops.subtract(clear_img, dirty_img)\n",
        "    out.show()\n",
        "    '''\n",
        "\n",
        "image_diff()\n",
        "\n",
        "'''\n",
        "image_path_c = PurePath(os.getcwd(), 'plates', 'train', 'cleaned', '0006.jpg')\n",
        "image_path_d = PureWindowsPath(os.getcwd(), 'plates', 'train', 'dirty', '0006.jpg')\n",
        "print(os.path.isfile(image_path_d.as_posix()))\n",
        "print(str(image_path_c.as_posix()))\n",
        "img = cv2.imread(str(image_path_d.as_posix()), 0)\n",
        "f = np.fft.fft2(img)\n",
        "fshift = np.fft.fftshift(f)\n",
        "magnitude_spectrum = 20 * np.log(np.abs(fshift))\n",
        "plt.subplot(121)\n",
        "plt.imshow(img, cmap='gray')\n",
        "plt.title('Input Image')\n",
        "plt.xticks([])\n",
        "plt.yticks([])\n",
        "plt.subplot(122)\n",
        "plt.imshow(magnitude_spectrum, cmap='gray')\n",
        "plt.title('Magnitude Spectrum'), plt.xticks([]), plt.yticks([])\n",
        "plt.show()\n",
        "'''"
      ],
      "execution_count": 0,
      "outputs": []
    }
  ]
}